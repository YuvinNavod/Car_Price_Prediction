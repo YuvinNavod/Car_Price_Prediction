{
 "cells": [
  {
   "cell_type": "markdown",
   "id": "08f2f41e-66d8-48ad-a4a5-2a2f56624b53",
   "metadata": {},
   "source": [
    "! pip install --user numpy\n",
    "!pip install pandas"
   ]
  },
  {
   "cell_type": "code",
   "execution_count": 1,
   "id": "b62055e1-6bba-4b09-8af8-1a0b91caf4b1",
   "metadata": {},
   "outputs": [],
   "source": [
    "import numpy as np\n",
    "import pandas as pd\n"
   ]
  },
  {
   "cell_type": "code",
   "execution_count": 2,
   "id": "622d3107-36fa-4777-937a-931d08acb3e0",
   "metadata": {},
   "outputs": [
    {
     "data": {
      "text/html": [
       "<div>\n",
       "<style scoped>\n",
       "    .dataframe tbody tr th:only-of-type {\n",
       "        vertical-align: middle;\n",
       "    }\n",
       "\n",
       "    .dataframe tbody tr th {\n",
       "        vertical-align: top;\n",
       "    }\n",
       "\n",
       "    .dataframe thead th {\n",
       "        text-align: right;\n",
       "    }\n",
       "</style>\n",
       "<table border=\"1\" class=\"dataframe\">\n",
       "  <thead>\n",
       "    <tr style=\"text-align: right;\">\n",
       "      <th></th>\n",
       "      <th>Brand Name</th>\n",
       "      <th>Fuel type</th>\n",
       "      <th>Aspiration</th>\n",
       "      <th>Door Panel</th>\n",
       "      <th>Design</th>\n",
       "      <th>Wheel Drive</th>\n",
       "      <th>Engine Location</th>\n",
       "      <th>Engine Type</th>\n",
       "      <th>Cylinder Count</th>\n",
       "      <th>Engine Size</th>\n",
       "      <th>Fuel System</th>\n",
       "      <th>Bore</th>\n",
       "      <th>Stroke</th>\n",
       "      <th>Compression Ratio</th>\n",
       "      <th>Horse Power</th>\n",
       "      <th>Top-RPM</th>\n",
       "      <th>City Mileage</th>\n",
       "      <th>Highway Mileage</th>\n",
       "      <th>Price in Dollars</th>\n",
       "    </tr>\n",
       "  </thead>\n",
       "  <tbody>\n",
       "    <tr>\n",
       "      <th>0</th>\n",
       "      <td>alfa-romero</td>\n",
       "      <td>gas</td>\n",
       "      <td>std</td>\n",
       "      <td>two</td>\n",
       "      <td>convertible</td>\n",
       "      <td>rwd</td>\n",
       "      <td>front</td>\n",
       "      <td>dohc</td>\n",
       "      <td>four</td>\n",
       "      <td>130</td>\n",
       "      <td>mpfi</td>\n",
       "      <td>3.47</td>\n",
       "      <td>2.68</td>\n",
       "      <td>9.0</td>\n",
       "      <td>111</td>\n",
       "      <td>5000</td>\n",
       "      <td>21</td>\n",
       "      <td>27</td>\n",
       "      <td>13495</td>\n",
       "    </tr>\n",
       "    <tr>\n",
       "      <th>1</th>\n",
       "      <td>alfa-romero</td>\n",
       "      <td>gas</td>\n",
       "      <td>std</td>\n",
       "      <td>two</td>\n",
       "      <td>convertible</td>\n",
       "      <td>rwd</td>\n",
       "      <td>front</td>\n",
       "      <td>dohc</td>\n",
       "      <td>four</td>\n",
       "      <td>130</td>\n",
       "      <td>mpfi</td>\n",
       "      <td>3.47</td>\n",
       "      <td>2.68</td>\n",
       "      <td>9.0</td>\n",
       "      <td>111</td>\n",
       "      <td>5000</td>\n",
       "      <td>21</td>\n",
       "      <td>27</td>\n",
       "      <td>16500</td>\n",
       "    </tr>\n",
       "    <tr>\n",
       "      <th>2</th>\n",
       "      <td>alfa-romero</td>\n",
       "      <td>gas</td>\n",
       "      <td>std</td>\n",
       "      <td>two</td>\n",
       "      <td>hatchback</td>\n",
       "      <td>rwd</td>\n",
       "      <td>front</td>\n",
       "      <td>ohcv</td>\n",
       "      <td>six</td>\n",
       "      <td>152</td>\n",
       "      <td>mpfi</td>\n",
       "      <td>2.68</td>\n",
       "      <td>3.47</td>\n",
       "      <td>9.0</td>\n",
       "      <td>154</td>\n",
       "      <td>5000</td>\n",
       "      <td>19</td>\n",
       "      <td>26</td>\n",
       "      <td>16500</td>\n",
       "    </tr>\n",
       "    <tr>\n",
       "      <th>3</th>\n",
       "      <td>audi</td>\n",
       "      <td>gas</td>\n",
       "      <td>std</td>\n",
       "      <td>four</td>\n",
       "      <td>sedan</td>\n",
       "      <td>fwd</td>\n",
       "      <td>front</td>\n",
       "      <td>ohc</td>\n",
       "      <td>four</td>\n",
       "      <td>109</td>\n",
       "      <td>mpfi</td>\n",
       "      <td>3.19</td>\n",
       "      <td>3.40</td>\n",
       "      <td>10.0</td>\n",
       "      <td>102</td>\n",
       "      <td>5500</td>\n",
       "      <td>24</td>\n",
       "      <td>30</td>\n",
       "      <td>13950</td>\n",
       "    </tr>\n",
       "    <tr>\n",
       "      <th>4</th>\n",
       "      <td>audi</td>\n",
       "      <td>gas</td>\n",
       "      <td>std</td>\n",
       "      <td>four</td>\n",
       "      <td>sedan</td>\n",
       "      <td>4wd</td>\n",
       "      <td>front</td>\n",
       "      <td>ohc</td>\n",
       "      <td>five</td>\n",
       "      <td>136</td>\n",
       "      <td>mpfi</td>\n",
       "      <td>3.19</td>\n",
       "      <td>3.40</td>\n",
       "      <td>8.0</td>\n",
       "      <td>115</td>\n",
       "      <td>5500</td>\n",
       "      <td>18</td>\n",
       "      <td>22</td>\n",
       "      <td>17450</td>\n",
       "    </tr>\n",
       "  </tbody>\n",
       "</table>\n",
       "</div>"
      ],
      "text/plain": [
       "    Brand Name Fuel type Aspiration Door Panel       Design Wheel Drive  \\\n",
       "0  alfa-romero       gas        std        two  convertible         rwd   \n",
       "1  alfa-romero       gas        std        two  convertible         rwd   \n",
       "2  alfa-romero       gas        std        two    hatchback         rwd   \n",
       "3         audi       gas        std       four        sedan         fwd   \n",
       "4         audi       gas        std       four        sedan         4wd   \n",
       "\n",
       "  Engine Location Engine Type Cylinder Count  Engine Size Fuel System  Bore  \\\n",
       "0           front        dohc           four          130        mpfi  3.47   \n",
       "1           front        dohc           four          130        mpfi  3.47   \n",
       "2           front        ohcv            six          152        mpfi  2.68   \n",
       "3           front         ohc           four          109        mpfi  3.19   \n",
       "4           front         ohc           five          136        mpfi  3.19   \n",
       "\n",
       "   Stroke  Compression Ratio  Horse Power  Top-RPM  City Mileage  \\\n",
       "0    2.68                9.0          111     5000            21   \n",
       "1    2.68                9.0          111     5000            21   \n",
       "2    3.47                9.0          154     5000            19   \n",
       "3    3.40               10.0          102     5500            24   \n",
       "4    3.40                8.0          115     5500            18   \n",
       "\n",
       "   Highway Mileage  Price in Dollars  \n",
       "0               27             13495  \n",
       "1               27             16500  \n",
       "2               26             16500  \n",
       "3               30             13950  \n",
       "4               22             17450  "
      ]
     },
     "execution_count": 2,
     "metadata": {},
     "output_type": "execute_result"
    }
   ],
   "source": [
    "url=\"https://raw.githubusercontent.com/YuvinNavod/Car_Price_Prediction/main/Automobile%20data.csv\"\n",
    "data = pd.read_csv(url,encoding='latin-1')\n",
    "data.head()"
   ]
  },
  {
   "cell_type": "code",
   "execution_count": 3,
   "id": "d6fca3ab-2813-4ac9-8809-5f5d8db69c6b",
   "metadata": {},
   "outputs": [
    {
     "data": {
      "text/plain": [
       "(205, 19)"
      ]
     },
     "execution_count": 3,
     "metadata": {},
     "output_type": "execute_result"
    }
   ],
   "source": [
    "data.shape\n"
   ]
  },
  {
   "cell_type": "code",
   "execution_count": 4,
   "id": "9b0ba1e2-09d5-49ce-9b0f-a9587e61685d",
   "metadata": {},
   "outputs": [
    {
     "data": {
      "text/plain": [
       "Brand Name           0\n",
       "Fuel type            0\n",
       "Aspiration           0\n",
       "Door Panel           0\n",
       "Design               0\n",
       "Wheel Drive          0\n",
       "Engine Location      0\n",
       "Engine Type          0\n",
       "Cylinder Count       0\n",
       "Engine Size          0\n",
       "Fuel System          0\n",
       "Bore                 0\n",
       "Stroke               0\n",
       "Compression Ratio    0\n",
       "Horse Power          0\n",
       "Top-RPM              0\n",
       "City Mileage         0\n",
       "Highway Mileage      0\n",
       "Price in Dollars     0\n",
       "dtype: int64"
      ]
     },
     "execution_count": 4,
     "metadata": {},
     "output_type": "execute_result"
    }
   ],
   "source": [
    "data.isnull().sum()\n"
   ]
  },
  {
   "cell_type": "code",
   "execution_count": 5,
   "id": "63fa578d-7df1-4d07-adad-92160e078f87",
   "metadata": {},
   "outputs": [
    {
     "name": "stdout",
     "output_type": "stream",
     "text": [
      "<class 'pandas.core.frame.DataFrame'>\n",
      "RangeIndex: 205 entries, 0 to 204\n",
      "Data columns (total 19 columns):\n",
      " #   Column             Non-Null Count  Dtype  \n",
      "---  ------             --------------  -----  \n",
      " 0   Brand Name         205 non-null    object \n",
      " 1   Fuel type          205 non-null    object \n",
      " 2   Aspiration         205 non-null    object \n",
      " 3   Door Panel         205 non-null    object \n",
      " 4   Design             205 non-null    object \n",
      " 5   Wheel Drive        205 non-null    object \n",
      " 6   Engine Location    205 non-null    object \n",
      " 7   Engine Type        205 non-null    object \n",
      " 8   Cylinder Count     205 non-null    object \n",
      " 9   Engine Size        205 non-null    int64  \n",
      " 10  Fuel System        205 non-null    object \n",
      " 11  Bore               205 non-null    float64\n",
      " 12  Stroke             205 non-null    float64\n",
      " 13  Compression Ratio  205 non-null    float64\n",
      " 14  Horse Power        205 non-null    int64  \n",
      " 15  Top-RPM            205 non-null    int64  \n",
      " 16  City Mileage       205 non-null    int64  \n",
      " 17  Highway Mileage    205 non-null    int64  \n",
      " 18  Price in Dollars   205 non-null    int64  \n",
      "dtypes: float64(3), int64(6), object(10)\n",
      "memory usage: 30.6+ KB\n"
     ]
    }
   ],
   "source": [
    "data.info()\n"
   ]
  },
  {
   "cell_type": "code",
   "execution_count": 6,
   "id": "83e41def-7289-4a7c-b278-e49270be6fe2",
   "metadata": {},
   "outputs": [
    {
     "data": {
      "text/html": [
       "<div>\n",
       "<style scoped>\n",
       "    .dataframe tbody tr th:only-of-type {\n",
       "        vertical-align: middle;\n",
       "    }\n",
       "\n",
       "    .dataframe tbody tr th {\n",
       "        vertical-align: top;\n",
       "    }\n",
       "\n",
       "    .dataframe thead th {\n",
       "        text-align: right;\n",
       "    }\n",
       "</style>\n",
       "<table border=\"1\" class=\"dataframe\">\n",
       "  <thead>\n",
       "    <tr style=\"text-align: right;\">\n",
       "      <th></th>\n",
       "      <th>Brand Name</th>\n",
       "      <th>Fuel type</th>\n",
       "      <th>Aspiration</th>\n",
       "      <th>Door Panel</th>\n",
       "      <th>Design</th>\n",
       "      <th>Wheel Drive</th>\n",
       "      <th>Engine Location</th>\n",
       "      <th>Engine Type</th>\n",
       "      <th>Cylinder Count</th>\n",
       "      <th>Engine Size</th>\n",
       "      <th>Fuel System</th>\n",
       "      <th>Bore</th>\n",
       "      <th>Stroke</th>\n",
       "      <th>Compression Ratio</th>\n",
       "      <th>Horse Power</th>\n",
       "      <th>Top-RPM</th>\n",
       "      <th>City Mileage</th>\n",
       "      <th>Highway Mileage</th>\n",
       "      <th>Price in Dollars</th>\n",
       "    </tr>\n",
       "  </thead>\n",
       "  <tbody>\n",
       "    <tr>\n",
       "      <th>0</th>\n",
       "      <td>alfa-romero</td>\n",
       "      <td>gas</td>\n",
       "      <td>std</td>\n",
       "      <td>two</td>\n",
       "      <td>convertible</td>\n",
       "      <td>rwd</td>\n",
       "      <td>front</td>\n",
       "      <td>dohc</td>\n",
       "      <td>four</td>\n",
       "      <td>130</td>\n",
       "      <td>mpfi</td>\n",
       "      <td>3.47</td>\n",
       "      <td>2.68</td>\n",
       "      <td>9.0</td>\n",
       "      <td>111</td>\n",
       "      <td>5000</td>\n",
       "      <td>21</td>\n",
       "      <td>27</td>\n",
       "      <td>13495</td>\n",
       "    </tr>\n",
       "    <tr>\n",
       "      <th>1</th>\n",
       "      <td>alfa-romero</td>\n",
       "      <td>gas</td>\n",
       "      <td>std</td>\n",
       "      <td>two</td>\n",
       "      <td>convertible</td>\n",
       "      <td>rwd</td>\n",
       "      <td>front</td>\n",
       "      <td>dohc</td>\n",
       "      <td>four</td>\n",
       "      <td>130</td>\n",
       "      <td>mpfi</td>\n",
       "      <td>3.47</td>\n",
       "      <td>2.68</td>\n",
       "      <td>9.0</td>\n",
       "      <td>111</td>\n",
       "      <td>5000</td>\n",
       "      <td>21</td>\n",
       "      <td>27</td>\n",
       "      <td>16500</td>\n",
       "    </tr>\n",
       "  </tbody>\n",
       "</table>\n",
       "</div>"
      ],
      "text/plain": [
       "    Brand Name Fuel type Aspiration Door Panel       Design Wheel Drive  \\\n",
       "0  alfa-romero       gas        std        two  convertible         rwd   \n",
       "1  alfa-romero       gas        std        two  convertible         rwd   \n",
       "\n",
       "  Engine Location Engine Type Cylinder Count  Engine Size Fuel System  Bore  \\\n",
       "0           front        dohc           four          130        mpfi  3.47   \n",
       "1           front        dohc           four          130        mpfi  3.47   \n",
       "\n",
       "   Stroke  Compression Ratio  Horse Power  Top-RPM  City Mileage  \\\n",
       "0    2.68                9.0          111     5000            21   \n",
       "1    2.68                9.0          111     5000            21   \n",
       "\n",
       "   Highway Mileage  Price in Dollars  \n",
       "0               27             13495  \n",
       "1               27             16500  "
      ]
     },
     "execution_count": 6,
     "metadata": {},
     "output_type": "execute_result"
    }
   ],
   "source": [
    "data.head(2)\n"
   ]
  },
  {
   "cell_type": "code",
   "execution_count": 7,
   "id": "ce4cad26-f649-4782-a69a-ef8d3504c411",
   "metadata": {},
   "outputs": [
    {
     "data": {
      "text/plain": [
       "['Brand Name',\n",
       " 'Fuel type',\n",
       " 'Aspiration',\n",
       " 'Door Panel',\n",
       " 'Design',\n",
       " 'Wheel Drive',\n",
       " 'Engine Location',\n",
       " 'Engine Type',\n",
       " 'Cylinder Count',\n",
       " 'Engine Size',\n",
       " 'Fuel System',\n",
       " 'Bore',\n",
       " 'Stroke',\n",
       " 'Compression Ratio',\n",
       " 'Horse Power',\n",
       " 'Top-RPM',\n",
       " 'City Mileage',\n",
       " 'Highway Mileage',\n",
       " 'Price in Dollars']"
      ]
     },
     "execution_count": 7,
     "metadata": {},
     "output_type": "execute_result"
    }
   ],
   "source": [
    "\n",
    "list(data)"
   ]
  },
  {
   "cell_type": "code",
   "execution_count": 8,
   "id": "7cd0d772-e1d4-44e8-9666-75fb467b0cbf",
   "metadata": {
    "scrolled": true
   },
   "outputs": [
    {
     "name": "stderr",
     "output_type": "stream",
     "text": [
      "C:\\Users\\~Yuvin\\AppData\\Local\\Temp\\ipykernel_16256\\1250547758.py:1: FutureWarning: The default value of numeric_only in DataFrame.corr is deprecated. In a future version, it will default to False. Select only valid columns or specify the value of numeric_only to silence this warning.\n",
      "  data.corr()['Price in Dollars']\n"
     ]
    },
    {
     "data": {
      "text/plain": [
       "Engine Size          0.106411\n",
       "Bore                 0.027551\n",
       "Stroke              -0.017031\n",
       "Compression Ratio    0.003791\n",
       "Horse Power          0.089986\n",
       "Top-RPM              0.021937\n",
       "City Mileage         0.006233\n",
       "Highway Mileage     -0.009910\n",
       "Price in Dollars     1.000000\n",
       "Name: Price in Dollars, dtype: float64"
      ]
     },
     "execution_count": 8,
     "metadata": {},
     "output_type": "execute_result"
    }
   ],
   "source": [
    "data.corr()['Price in Dollars']"
   ]
  },
  {
   "cell_type": "code",
   "execution_count": 9,
   "id": "869f2b40",
   "metadata": {},
   "outputs": [
    {
     "name": "stdout",
     "output_type": "stream",
     "text": [
      "<class 'pandas.core.frame.DataFrame'>\n",
      "RangeIndex: 205 entries, 0 to 204\n",
      "Data columns (total 19 columns):\n",
      " #   Column             Non-Null Count  Dtype  \n",
      "---  ------             --------------  -----  \n",
      " 0   Brand Name         205 non-null    object \n",
      " 1   Fuel type          205 non-null    object \n",
      " 2   Aspiration         205 non-null    object \n",
      " 3   Door Panel         205 non-null    object \n",
      " 4   Design             205 non-null    object \n",
      " 5   Wheel Drive        205 non-null    object \n",
      " 6   Engine Location    205 non-null    object \n",
      " 7   Engine Type        205 non-null    object \n",
      " 8   Cylinder Count     205 non-null    object \n",
      " 9   Engine Size        205 non-null    int64  \n",
      " 10  Fuel System        205 non-null    object \n",
      " 11  Bore               205 non-null    float64\n",
      " 12  Stroke             205 non-null    float64\n",
      " 13  Compression Ratio  205 non-null    float64\n",
      " 14  Horse Power        205 non-null    int64  \n",
      " 15  Top-RPM            205 non-null    int64  \n",
      " 16  City Mileage       205 non-null    int64  \n",
      " 17  Highway Mileage    205 non-null    int64  \n",
      " 18  Price in Dollars   205 non-null    int64  \n",
      "dtypes: float64(3), int64(6), object(10)\n",
      "memory usage: 30.6+ KB\n"
     ]
    }
   ],
   "source": [
    "data.info()"
   ]
  },
  {
   "cell_type": "code",
   "execution_count": 10,
   "id": "b3244e17",
   "metadata": {
    "scrolled": true
   },
   "outputs": [
    {
     "data": {
      "text/plain": [
       "toyota           32\n",
       "nissan           18\n",
       "mazda            17\n",
       "mitsubishi       13\n",
       "honda            13\n",
       "volkswagen       12\n",
       "subaru           12\n",
       "peugot           11\n",
       "volvo            11\n",
       "dodge             9\n",
       "mercedes-benz     8\n",
       "bmw               8\n",
       "audi              7\n",
       "plymouth          7\n",
       "saab              6\n",
       "porsche           5\n",
       "isuzu             4\n",
       "jaguar            3\n",
       "chevrolet         3\n",
       "alfa-romero       3\n",
       "renault           2\n",
       "mercury           1\n",
       "Name: Brand Name, dtype: int64"
      ]
     },
     "execution_count": 10,
     "metadata": {},
     "output_type": "execute_result"
    }
   ],
   "source": [
    "data['Brand Name'].value_counts()"
   ]
  },
  {
   "cell_type": "code",
   "execution_count": 11,
   "id": "51230e9b",
   "metadata": {},
   "outputs": [
    {
     "data": {
      "text/plain": [
       "22"
      ]
     },
     "execution_count": 11,
     "metadata": {},
     "output_type": "execute_result"
    }
   ],
   "source": [
    "len(data['Brand Name'].value_counts()\n",
    "   )"
   ]
  },
  {
   "cell_type": "code",
   "execution_count": 12,
   "id": "e2299587",
   "metadata": {},
   "outputs": [],
   "source": [
    "def add_brand(inpt):\n",
    "    if inpt=='dodge'or inpt=='mercedes-benz'or inpt=='bmw'or inpt=='audi'or inpt=='plymouth'or inpt=='saab'or inpt=='porsche'or inpt=='isuzu'or inpt=='jaguar'or inpt=='chevrolet'or inpt=='alfa-romero'or inpt=='renault'or inpt=='mercury':\n",
    "        return 'Other'\n",
    "    else:\n",
    "        return inpt\n",
    "data['Brand Name']= data['Brand Name'].apply(add_brand)"
   ]
  },
  {
   "cell_type": "code",
   "execution_count": 14,
   "id": "8bd1dfa1",
   "metadata": {},
   "outputs": [
    {
     "data": {
      "text/plain": [
       "Other         66\n",
       "toyota        32\n",
       "nissan        18\n",
       "mazda         17\n",
       "honda         13\n",
       "mitsubishi    13\n",
       "subaru        12\n",
       "volkswagen    12\n",
       "peugot        11\n",
       "volvo         11\n",
       "Name: Brand Name, dtype: int64"
      ]
     },
     "execution_count": 14,
     "metadata": {},
     "output_type": "execute_result"
    }
   ],
   "source": [
    "data['Brand Name'].value_counts()"
   ]
  },
  {
   "cell_type": "code",
   "execution_count": 13,
   "id": "8b355914",
   "metadata": {},
   "outputs": [
    {
     "data": {
      "text/plain": [
       "gas       185\n",
       "diesel     20\n",
       "Name: Fuel type, dtype: int64"
      ]
     },
     "execution_count": 13,
     "metadata": {},
     "output_type": "execute_result"
    }
   ],
   "source": [
    "\n",
    "data['Fuel type'].value_counts()"
   ]
  },
  {
   "cell_type": "code",
   "execution_count": 14,
   "id": "afb82951",
   "metadata": {},
   "outputs": [
    {
     "data": {
      "text/plain": [
       "four    114\n",
       "two      89\n",
       "?         2\n",
       "Name: Door Panel, dtype: int64"
      ]
     },
     "execution_count": 14,
     "metadata": {},
     "output_type": "execute_result"
    }
   ],
   "source": [
    "data['Door Panel'].value_counts()"
   ]
  },
  {
   "cell_type": "code",
   "execution_count": 15,
   "id": "aab7645b",
   "metadata": {},
   "outputs": [
    {
     "data": {
      "text/plain": [
       "four    114\n",
       "two      89\n",
       "?         2\n",
       "Name: Door Panel, dtype: int64"
      ]
     },
     "execution_count": 15,
     "metadata": {},
     "output_type": "execute_result"
    }
   ],
   "source": [
    "data['Door Panel'].value_counts()"
   ]
  },
  {
   "cell_type": "code",
   "execution_count": 16,
   "id": "556cb760",
   "metadata": {},
   "outputs": [
    {
     "data": {
      "text/plain": [
       "sedan          96\n",
       "hatchback      70\n",
       "wagon          25\n",
       "hardtop         8\n",
       "convertible     6\n",
       "Name: Design, dtype: int64"
      ]
     },
     "execution_count": 16,
     "metadata": {},
     "output_type": "execute_result"
    }
   ],
   "source": [
    "data['Design'].value_counts()"
   ]
  },
  {
   "cell_type": "code",
   "execution_count": 17,
   "id": "148032fe",
   "metadata": {},
   "outputs": [],
   "source": [
    "def add_design(inpt):\n",
    "    if inpt=='hardtop'or inpt=='convertible':\n",
    "        return 'Other'\n",
    "    else:\n",
    "        return inpt\n",
    "data['Design']= data['Design'].apply(add_design)"
   ]
  },
  {
   "cell_type": "code",
   "execution_count": 18,
   "id": "6fe39deb",
   "metadata": {},
   "outputs": [
    {
     "data": {
      "text/plain": [
       "sedan        96\n",
       "hatchback    70\n",
       "wagon        25\n",
       "Other        14\n",
       "Name: Design, dtype: int64"
      ]
     },
     "execution_count": 18,
     "metadata": {},
     "output_type": "execute_result"
    }
   ],
   "source": [
    "data['Design'].value_counts()"
   ]
  },
  {
   "cell_type": "code",
   "execution_count": 19,
   "id": "44a9b23f",
   "metadata": {},
   "outputs": [
    {
     "data": {
      "text/plain": [
       "fwd    120\n",
       "rwd     76\n",
       "4wd      9\n",
       "Name: Wheel Drive, dtype: int64"
      ]
     },
     "execution_count": 19,
     "metadata": {},
     "output_type": "execute_result"
    }
   ],
   "source": [
    "data['Wheel Drive'].value_counts()"
   ]
  },
  {
   "cell_type": "code",
   "execution_count": 20,
   "id": "027a0de4",
   "metadata": {},
   "outputs": [
    {
     "data": {
      "text/plain": [
       "front    202\n",
       "rear       3\n",
       "Name: Engine Location, dtype: int64"
      ]
     },
     "execution_count": 20,
     "metadata": {},
     "output_type": "execute_result"
    }
   ],
   "source": [
    "data['Engine Location'].value_counts()"
   ]
  },
  {
   "cell_type": "code",
   "execution_count": 21,
   "id": "c5b7fbf7",
   "metadata": {},
   "outputs": [
    {
     "data": {
      "text/plain": [
       "ohc      148\n",
       "ohcf      15\n",
       "ohcv      13\n",
       "dohc      12\n",
       "l         12\n",
       "rotor      4\n",
       "dohcv      1\n",
       "Name: Engine Type, dtype: int64"
      ]
     },
     "execution_count": 21,
     "metadata": {},
     "output_type": "execute_result"
    }
   ],
   "source": [
    "data['Engine Type'].value_counts()"
   ]
  },
  {
   "cell_type": "code",
   "execution_count": 22,
   "id": "13ca7d27",
   "metadata": {},
   "outputs": [],
   "source": [
    "def add_type(inpt):\n",
    "    if inpt=='ohcf'or inpt=='ohcv'or inpt=='dohc'or inpt=='l'or inpt=='rotor'or inpt=='dohcv':\n",
    "        return 'Other'\n",
    "    else:\n",
    "        return inpt\n",
    "data['Engine Type']= data['Engine Type'].apply(add_type)"
   ]
  },
  {
   "cell_type": "code",
   "execution_count": 23,
   "id": "35e720ba",
   "metadata": {},
   "outputs": [
    {
     "data": {
      "text/plain": [
       "ohc      148\n",
       "Other     57\n",
       "Name: Engine Type, dtype: int64"
      ]
     },
     "execution_count": 23,
     "metadata": {},
     "output_type": "execute_result"
    }
   ],
   "source": [
    "data['Engine Type'].value_counts()"
   ]
  },
  {
   "cell_type": "code",
   "execution_count": 24,
   "id": "df3893d0",
   "metadata": {},
   "outputs": [
    {
     "data": {
      "text/plain": [
       "mpfi    94\n",
       "2bbl    66\n",
       "idi     20\n",
       "1bbl    11\n",
       "spdi     9\n",
       "4bbl     3\n",
       "mfi      1\n",
       "spfi     1\n",
       "Name: Fuel System, dtype: int64"
      ]
     },
     "execution_count": 24,
     "metadata": {},
     "output_type": "execute_result"
    }
   ],
   "source": [
    "data['Fuel System'].value_counts()"
   ]
  },
  {
   "cell_type": "code",
   "execution_count": 25,
   "id": "5d8f08be",
   "metadata": {},
   "outputs": [],
   "source": [
    "data= data.drop(columns=['City Mileage','Compression Ratio','Highway Mileage','Door Panel','Cylinder Count','Fuel System'])"
   ]
  },
  {
   "cell_type": "code",
   "execution_count": 26,
   "id": "03174582",
   "metadata": {},
   "outputs": [
    {
     "data": {
      "text/html": [
       "<div>\n",
       "<style scoped>\n",
       "    .dataframe tbody tr th:only-of-type {\n",
       "        vertical-align: middle;\n",
       "    }\n",
       "\n",
       "    .dataframe tbody tr th {\n",
       "        vertical-align: top;\n",
       "    }\n",
       "\n",
       "    .dataframe thead th {\n",
       "        text-align: right;\n",
       "    }\n",
       "</style>\n",
       "<table border=\"1\" class=\"dataframe\">\n",
       "  <thead>\n",
       "    <tr style=\"text-align: right;\">\n",
       "      <th></th>\n",
       "      <th>Brand Name</th>\n",
       "      <th>Fuel type</th>\n",
       "      <th>Aspiration</th>\n",
       "      <th>Design</th>\n",
       "      <th>Wheel Drive</th>\n",
       "      <th>Engine Location</th>\n",
       "      <th>Engine Type</th>\n",
       "      <th>Engine Size</th>\n",
       "      <th>Bore</th>\n",
       "      <th>Stroke</th>\n",
       "      <th>Horse Power</th>\n",
       "      <th>Top-RPM</th>\n",
       "      <th>Price in Dollars</th>\n",
       "    </tr>\n",
       "  </thead>\n",
       "  <tbody>\n",
       "    <tr>\n",
       "      <th>0</th>\n",
       "      <td>Other</td>\n",
       "      <td>gas</td>\n",
       "      <td>std</td>\n",
       "      <td>Other</td>\n",
       "      <td>rwd</td>\n",
       "      <td>front</td>\n",
       "      <td>Other</td>\n",
       "      <td>130</td>\n",
       "      <td>3.47</td>\n",
       "      <td>2.68</td>\n",
       "      <td>111</td>\n",
       "      <td>5000</td>\n",
       "      <td>13495</td>\n",
       "    </tr>\n",
       "    <tr>\n",
       "      <th>1</th>\n",
       "      <td>Other</td>\n",
       "      <td>gas</td>\n",
       "      <td>std</td>\n",
       "      <td>Other</td>\n",
       "      <td>rwd</td>\n",
       "      <td>front</td>\n",
       "      <td>Other</td>\n",
       "      <td>130</td>\n",
       "      <td>3.47</td>\n",
       "      <td>2.68</td>\n",
       "      <td>111</td>\n",
       "      <td>5000</td>\n",
       "      <td>16500</td>\n",
       "    </tr>\n",
       "  </tbody>\n",
       "</table>\n",
       "</div>"
      ],
      "text/plain": [
       "  Brand Name Fuel type Aspiration Design Wheel Drive Engine Location  \\\n",
       "0      Other       gas        std  Other         rwd           front   \n",
       "1      Other       gas        std  Other         rwd           front   \n",
       "\n",
       "  Engine Type  Engine Size  Bore  Stroke  Horse Power  Top-RPM  \\\n",
       "0       Other          130  3.47    2.68          111     5000   \n",
       "1       Other          130  3.47    2.68          111     5000   \n",
       "\n",
       "   Price in Dollars  \n",
       "0             13495  \n",
       "1             16500  "
      ]
     },
     "execution_count": 26,
     "metadata": {},
     "output_type": "execute_result"
    }
   ],
   "source": [
    "data.head(2)"
   ]
  },
  {
   "cell_type": "code",
   "execution_count": 27,
   "id": "ceab18ce",
   "metadata": {},
   "outputs": [],
   "source": [
    "data =pd.get_dummies(data)"
   ]
  },
  {
   "cell_type": "code",
   "execution_count": 28,
   "id": "804dd389",
   "metadata": {},
   "outputs": [
    {
     "data": {
      "text/html": [
       "<div>\n",
       "<style scoped>\n",
       "    .dataframe tbody tr th:only-of-type {\n",
       "        vertical-align: middle;\n",
       "    }\n",
       "\n",
       "    .dataframe tbody tr th {\n",
       "        vertical-align: top;\n",
       "    }\n",
       "\n",
       "    .dataframe thead th {\n",
       "        text-align: right;\n",
       "    }\n",
       "</style>\n",
       "<table border=\"1\" class=\"dataframe\">\n",
       "  <thead>\n",
       "    <tr style=\"text-align: right;\">\n",
       "      <th></th>\n",
       "      <th>Engine Size</th>\n",
       "      <th>Bore</th>\n",
       "      <th>Stroke</th>\n",
       "      <th>Horse Power</th>\n",
       "      <th>Top-RPM</th>\n",
       "      <th>Price in Dollars</th>\n",
       "      <th>Brand Name_Other</th>\n",
       "      <th>Brand Name_honda</th>\n",
       "      <th>Brand Name_mazda</th>\n",
       "      <th>Brand Name_mitsubishi</th>\n",
       "      <th>...</th>\n",
       "      <th>Design_hatchback</th>\n",
       "      <th>Design_sedan</th>\n",
       "      <th>Design_wagon</th>\n",
       "      <th>Wheel Drive_4wd</th>\n",
       "      <th>Wheel Drive_fwd</th>\n",
       "      <th>Wheel Drive_rwd</th>\n",
       "      <th>Engine Location_front</th>\n",
       "      <th>Engine Location_rear</th>\n",
       "      <th>Engine Type_Other</th>\n",
       "      <th>Engine Type_ohc</th>\n",
       "    </tr>\n",
       "  </thead>\n",
       "  <tbody>\n",
       "    <tr>\n",
       "      <th>0</th>\n",
       "      <td>130</td>\n",
       "      <td>3.47</td>\n",
       "      <td>2.68</td>\n",
       "      <td>111</td>\n",
       "      <td>5000</td>\n",
       "      <td>13495</td>\n",
       "      <td>1</td>\n",
       "      <td>0</td>\n",
       "      <td>0</td>\n",
       "      <td>0</td>\n",
       "      <td>...</td>\n",
       "      <td>0</td>\n",
       "      <td>0</td>\n",
       "      <td>0</td>\n",
       "      <td>0</td>\n",
       "      <td>0</td>\n",
       "      <td>1</td>\n",
       "      <td>1</td>\n",
       "      <td>0</td>\n",
       "      <td>1</td>\n",
       "      <td>0</td>\n",
       "    </tr>\n",
       "    <tr>\n",
       "      <th>1</th>\n",
       "      <td>130</td>\n",
       "      <td>3.47</td>\n",
       "      <td>2.68</td>\n",
       "      <td>111</td>\n",
       "      <td>5000</td>\n",
       "      <td>16500</td>\n",
       "      <td>1</td>\n",
       "      <td>0</td>\n",
       "      <td>0</td>\n",
       "      <td>0</td>\n",
       "      <td>...</td>\n",
       "      <td>0</td>\n",
       "      <td>0</td>\n",
       "      <td>0</td>\n",
       "      <td>0</td>\n",
       "      <td>0</td>\n",
       "      <td>1</td>\n",
       "      <td>1</td>\n",
       "      <td>0</td>\n",
       "      <td>1</td>\n",
       "      <td>0</td>\n",
       "    </tr>\n",
       "  </tbody>\n",
       "</table>\n",
       "<p>2 rows × 31 columns</p>\n",
       "</div>"
      ],
      "text/plain": [
       "   Engine Size  Bore  Stroke  Horse Power  Top-RPM  Price in Dollars  \\\n",
       "0          130  3.47    2.68          111     5000             13495   \n",
       "1          130  3.47    2.68          111     5000             16500   \n",
       "\n",
       "   Brand Name_Other  Brand Name_honda  Brand Name_mazda  \\\n",
       "0                 1                 0                 0   \n",
       "1                 1                 0                 0   \n",
       "\n",
       "   Brand Name_mitsubishi  ...  Design_hatchback  Design_sedan  Design_wagon  \\\n",
       "0                      0  ...                 0             0             0   \n",
       "1                      0  ...                 0             0             0   \n",
       "\n",
       "   Wheel Drive_4wd  Wheel Drive_fwd  Wheel Drive_rwd  Engine Location_front  \\\n",
       "0                0                0                1                      1   \n",
       "1                0                0                1                      1   \n",
       "\n",
       "   Engine Location_rear  Engine Type_Other  Engine Type_ohc  \n",
       "0                     0                  1                0  \n",
       "1                     0                  1                0  \n",
       "\n",
       "[2 rows x 31 columns]"
      ]
     },
     "execution_count": 28,
     "metadata": {},
     "output_type": "execute_result"
    }
   ],
   "source": [
    "data.head(2 )"
   ]
  },
  {
   "cell_type": "code",
   "execution_count": 30,
   "id": "4d7653b5",
   "metadata": {},
   "outputs": [
    {
     "data": {
      "text/plain": [
       "(205, 31)"
      ]
     },
     "execution_count": 30,
     "metadata": {},
     "output_type": "execute_result"
    }
   ],
   "source": [
    "data.shape\n"
   ]
  },
  {
   "cell_type": "code",
   "execution_count": 31,
   "id": "e439dedd",
   "metadata": {},
   "outputs": [
    {
     "name": "stdout",
     "output_type": "stream",
     "text": [
      "<class 'pandas.core.frame.DataFrame'>\n",
      "RangeIndex: 205 entries, 0 to 204\n",
      "Data columns (total 31 columns):\n",
      " #   Column                 Non-Null Count  Dtype  \n",
      "---  ------                 --------------  -----  \n",
      " 0   Engine Size            205 non-null    int64  \n",
      " 1   Bore                   205 non-null    float64\n",
      " 2   Stroke                 205 non-null    float64\n",
      " 3   Horse Power            205 non-null    int64  \n",
      " 4   Top-RPM                205 non-null    int64  \n",
      " 5   Price in Dollars       205 non-null    int64  \n",
      " 6   Brand Name_Other       205 non-null    uint8  \n",
      " 7   Brand Name_honda       205 non-null    uint8  \n",
      " 8   Brand Name_mazda       205 non-null    uint8  \n",
      " 9   Brand Name_mitsubishi  205 non-null    uint8  \n",
      " 10  Brand Name_nissan      205 non-null    uint8  \n",
      " 11  Brand Name_peugot      205 non-null    uint8  \n",
      " 12  Brand Name_subaru      205 non-null    uint8  \n",
      " 13  Brand Name_toyota      205 non-null    uint8  \n",
      " 14  Brand Name_volkswagen  205 non-null    uint8  \n",
      " 15  Brand Name_volvo       205 non-null    uint8  \n",
      " 16  Fuel type_diesel       205 non-null    uint8  \n",
      " 17  Fuel type_gas          205 non-null    uint8  \n",
      " 18  Aspiration_std         205 non-null    uint8  \n",
      " 19  Aspiration_turbo       205 non-null    uint8  \n",
      " 20  Design_Other           205 non-null    uint8  \n",
      " 21  Design_hatchback       205 non-null    uint8  \n",
      " 22  Design_sedan           205 non-null    uint8  \n",
      " 23  Design_wagon           205 non-null    uint8  \n",
      " 24  Wheel Drive_4wd        205 non-null    uint8  \n",
      " 25  Wheel Drive_fwd        205 non-null    uint8  \n",
      " 26  Wheel Drive_rwd        205 non-null    uint8  \n",
      " 27  Engine Location_front  205 non-null    uint8  \n",
      " 28  Engine Location_rear   205 non-null    uint8  \n",
      " 29  Engine Type_Other      205 non-null    uint8  \n",
      " 30  Engine Type_ohc        205 non-null    uint8  \n",
      "dtypes: float64(2), int64(4), uint8(25)\n",
      "memory usage: 14.7 KB\n"
     ]
    }
   ],
   "source": [
    "data.info()"
   ]
  },
  {
   "cell_type": "code",
   "execution_count": 32,
   "id": "f7d19846",
   "metadata": {},
   "outputs": [],
   "source": [
    "x=data.drop('Price in Dollars',axis=1)\n",
    "y=data['Price in Dollars']\n"
   ]
  },
  {
   "cell_type": "code",
   "execution_count": 33,
   "id": "4d0932ba",
   "metadata": {},
   "outputs": [],
   "source": [
    "from sklearn.model_selection import train_test_split\n",
    "x_train,x_test,y_train,y_test=train_test_split(x,y,test_size=0.25)"
   ]
  },
  {
   "cell_type": "code",
   "execution_count": 34,
   "id": "fb29fabf",
   "metadata": {},
   "outputs": [
    {
     "data": {
      "text/plain": [
       "(153, 30)"
      ]
     },
     "execution_count": 34,
     "metadata": {},
     "output_type": "execute_result"
    }
   ],
   "source": [
    "x_train.shape"
   ]
  },
  {
   "cell_type": "code",
   "execution_count": 35,
   "id": "2f2e98cd",
   "metadata": {},
   "outputs": [
    {
     "data": {
      "text/plain": [
       "(52, 30)"
      ]
     },
     "execution_count": 35,
     "metadata": {},
     "output_type": "execute_result"
    }
   ],
   "source": [
    "x_test.shape"
   ]
  },
  {
   "cell_type": "code",
   "execution_count": 36,
   "id": "923f6931",
   "metadata": {},
   "outputs": [],
   "source": [
    "def model_acc(model):\n",
    "    model.fit(x_train,y_train)\n",
    "    acc=model.score(x_test,y_test)\n",
    "    print(str(model)+'-->'+str(acc))"
   ]
  },
  {
   "cell_type": "code",
   "execution_count": 37,
   "id": "70b813bd",
   "metadata": {},
   "outputs": [
    {
     "name": "stdout",
     "output_type": "stream",
     "text": [
      "LinearRegression()-->-3.562983603194115\n",
      "Lasso()-->-3.551057776436253\n",
      "DecisionTreeRegressor()-->0.8652390798494517\n",
      "RandomForestRegressor()-->-2.73897673575552\n"
     ]
    }
   ],
   "source": [
    "from sklearn.linear_model import LinearRegression\n",
    "lr=LinearRegression()\n",
    "model_acc(lr)\n",
    "\n",
    "from sklearn.linear_model import Lasso\n",
    "lasso=Lasso()\n",
    "model_acc(lasso)\n",
    "\n",
    "from sklearn.tree import DecisionTreeRegressor\n",
    "dt=DecisionTreeRegressor()\n",
    "model_acc(dt)\n",
    "\n",
    "from sklearn.ensemble import RandomForestRegressor\n",
    "rf=RandomForestRegressor()\n",
    "model_acc(rf)"
   ]
  },
  {
   "cell_type": "code",
   "execution_count": 38,
   "id": "f74f0e09",
   "metadata": {},
   "outputs": [],
   "source": [
    "import pickle\n",
    "with open('predictor.pickle','wb') as file:\n",
    "    pickle.dump(dt,file)\n"
   ]
  },
  {
   "cell_type": "code",
   "execution_count": 39,
   "id": "1d7afba4",
   "metadata": {},
   "outputs": [
    {
     "data": {
      "text/plain": [
       "Index(['Engine Size', 'Bore', 'Stroke', 'Horse Power', 'Top-RPM',\n",
       "       'Brand Name_Other', 'Brand Name_honda', 'Brand Name_mazda',\n",
       "       'Brand Name_mitsubishi', 'Brand Name_nissan', 'Brand Name_peugot',\n",
       "       'Brand Name_subaru', 'Brand Name_toyota', 'Brand Name_volkswagen',\n",
       "       'Brand Name_volvo', 'Fuel type_diesel', 'Fuel type_gas',\n",
       "       'Aspiration_std', 'Aspiration_turbo', 'Design_Other',\n",
       "       'Design_hatchback', 'Design_sedan', 'Design_wagon', 'Wheel Drive_4wd',\n",
       "       'Wheel Drive_fwd', 'Wheel Drive_rwd', 'Engine Location_front',\n",
       "       'Engine Location_rear', 'Engine Type_Other', 'Engine Type_ohc'],\n",
       "      dtype='object')"
      ]
     },
     "execution_count": 39,
     "metadata": {},
     "output_type": "execute_result"
    }
   ],
   "source": [
    "x_train.columns\n"
   ]
  },
  {
   "cell_type": "code",
   "execution_count": 42,
   "id": "d26239a9",
   "metadata": {},
   "outputs": [
    {
     "name": "stderr",
     "output_type": "stream",
     "text": [
      "C:\\ProgramData\\anaconda3\\lib\\site-packages\\sklearn\\base.py:420: UserWarning: X does not have valid feature names, but LinearRegression was fitted with feature names\n",
      "  warnings.warn(\n"
     ]
    },
    {
     "data": {
      "text/plain": [
       "array([-339377.92509609])"
      ]
     },
     "execution_count": 42,
     "metadata": {},
     "output_type": "execute_result"
    }
   ],
   "source": [
    "lr.predict([[20, 20.0, 4.0, 200, 1000, 0, 0, 0, 0, 0, 0, 0, 0, 0, 0, 1, 0, 1, 0, 0, 0, 0, 1, 0, 0, 0, 0, 1, 0, 1]])\n",
    "     "
   ]
  },
  {
   "cell_type": "code",
   "execution_count": null,
   "id": "32da64bc",
   "metadata": {},
   "outputs": [],
   "source": []
  }
 ],
 "metadata": {
  "kernelspec": {
   "display_name": "Python 3 (ipykernel)",
   "language": "python",
   "name": "python3"
  },
  "language_info": {
   "codemirror_mode": {
    "name": "ipython",
    "version": 3
   },
   "file_extension": ".py",
   "mimetype": "text/x-python",
   "name": "python",
   "nbconvert_exporter": "python",
   "pygments_lexer": "ipython3",
   "version": "3.10.9"
  }
 },
 "nbformat": 4,
 "nbformat_minor": 5
}
